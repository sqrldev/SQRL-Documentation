{
 "cells": [
  {
   "cell_type": "markdown",
   "metadata": {},
   "source": [
    "#  Requirement 1 - The SQRL Nut\n",
    "\n",
    "MUST Requirement\n",
    "\n",
    "The sqrl 'nut' is a an unpredictable non repeating value used to prevent replay attack\n",
    "\n",
    "The nut value is used in the unique link generated for each HTTPS POST and as such is embedded in any QR Code representation of this link. \n",
    "\n",
    "The smaller the QR code the easier it is to read for a QR reader so nut size should be as small as possible while avoiding liklihood of collision.\n",
    "\n"
   ]
  },
  {
   "cell_type": "code",
   "execution_count": 4,
   "metadata": {},
   "outputs": [
    {
     "data": {
      "text/plain": [
       "'E4RdQTRgUrOm5HSTQNJC6meIRzQ7Eysw'"
      ]
     },
     "execution_count": 4,
     "metadata": {},
     "output_type": "execute_result"
    }
   ],
   "source": [
    "# Nut generation\n",
    "\n",
    "import secrets\n",
    "\n",
    "def generate_nut(nut_size=None):\n",
    "    if nut_size: \n",
    "        return secrets.token_urlsafe(nut_size)\n",
    "    else:\n",
    "        return secrets.token_urlsafe()\n",
    "    \n",
    "generate_nut(24)"
   ]
  }
 ],
 "metadata": {
  "kernelspec": {
   "display_name": "Python 3",
   "language": "python",
   "name": "python3"
  },
  "language_info": {
   "codemirror_mode": {
    "name": "ipython",
    "version": 3
   },
   "file_extension": ".py",
   "mimetype": "text/x-python",
   "name": "python",
   "nbconvert_exporter": "python",
   "pygments_lexer": "ipython3",
   "version": "3.7.4"
  }
 },
 "nbformat": 4,
 "nbformat_minor": 2
}
